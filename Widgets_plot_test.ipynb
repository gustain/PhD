{
 "cells": [
  {
   "cell_type": "code",
   "execution_count": 1,
   "metadata": {
    "extensions": {
     "jupyter_dashboards": {
      "version": 1,
      "views": {
       "grid_default": {},
       "report_default": {
        "hidden": true
       }
      }
     }
    }
   },
   "outputs": [],
   "source": [
    "#%pylab inline\n",
    "%matplotlib inline\n",
    "#%matplotlib widget\n",
    "\n",
    "import pandas as pd\n",
    "import numpy as np\n",
    "import matplotlib\n",
    "import matplotlib.pyplot as plt\n",
    "import bqplot as bq\n",
    "\n",
    "from ipywidgets import Layout, Button, Box, interactive\n",
    "import ipywidgets as wg\n",
    "from IPython.display import display\n",
    "from IPython.display import clear_output\n",
    "\n",
    "import scipy.interpolate as sip\n",
    "import colour\n",
    "import seaborn as sns\n",
    "from glob import glob\n",
    "\n",
    "#from matplotlib import rc\n",
    "#rc('text', usetex=True)"
   ]
  },
  {
   "cell_type": "code",
   "execution_count": null,
   "metadata": {
    "extensions": {
     "jupyter_dashboards": {
      "version": 1,
      "views": {
       "grid_default": {},
       "report_default": {
        "hidden": true
       }
      }
     }
    }
   },
   "outputs": [],
   "source": []
  },
  {
   "cell_type": "code",
   "execution_count": 2,
   "metadata": {
    "extensions": {
     "jupyter_dashboards": {
      "version": 1,
      "views": {
       "grid_default": {},
       "report_default": {
        "hidden": false
       }
      }
     }
    }
   },
   "outputs": [
    {
     "name": "stdout",
     "output_type": "stream",
     "text": [
      "/home/gus/Documents/PhD/PhD_Projects/Part1_MFT_Development/1.1.iMFT/Data/Processed/MFT\n"
     ]
    }
   ],
   "source": [
    "cd/home/gus/Documents/PhD/PhD_Projects/Part1_MFT_Development/1.1.iMFT/Data/Processed/MFT/"
   ]
  },
  {
   "cell_type": "code",
   "execution_count": null,
   "metadata": {
    "extensions": {
     "jupyter_dashboards": {
      "version": 1,
      "views": {
       "grid_default": {},
       "report_default": {
        "hidden": true
       }
      }
     }
    }
   },
   "outputs": [],
   "source": [
    "b = ['b1','b2','b3']\n",
    "y = ['d1','d2','d3']\n",
    "\n",
    "\n",
    "\n",
    "def func(x,y):\n",
    "    x = wg.Checkbox(value = False, description = y) \n",
    "    display(x)\n",
    "    return x\n",
    "\n",
    "for el1,el2 in zip(b,y):\n",
    "    #print(el1)\n",
    "    func(el1,el2)\n",
    "\n"
   ]
  },
  {
   "cell_type": "code",
   "execution_count": 4,
   "metadata": {
    "extensions": {
     "jupyter_dashboards": {
      "version": 1,
      "views": {
       "grid_default": {},
       "report_default": {
        "hidden": false
       }
      }
     }
    },
    "scrolled": false
   },
   "outputs": [
    {
     "name": "stderr",
     "output_type": "stream",
     "text": [
      "/home/gus/anaconda3/lib/python3.8/site-packages/colour/utilities/verbose.py:237: ColourUsageWarning: \"colour.ILLUMINANTS\" object has been renamed to \"colour.CCS_ILLUMINANTS\".\n",
      "  warn(*args, **kwargs)\n"
     ]
    },
    {
     "data": {
      "application/vnd.jupyter.widget-view+json": {
       "model_id": "6706a9f8a24445a6bb81546139df94da",
       "version_major": 2,
       "version_minor": 0
      },
      "text/plain": [
       "Tab(children=(Output(), Output(), Output()), _titles={'0': 'Exposure dose', '1': 'Radiant exposure', '2': 'Tim…"
      ]
     },
     "metadata": {},
     "output_type": "display_data"
    }
   ],
   "source": [
    "PO = 'MF.0048'\n",
    "files = sorted(glob(f'*{PO}*dE*'))\n",
    "fts1 = 18\n",
    "\n",
    "def load_data(files):\n",
    "    all_data = {}\n",
    "    for fn in files:\n",
    "        name = fn.split('_')[1]\n",
    "        all_data[name] = pd.read_csv(fn)\n",
    "        \n",
    "    return all_data\n",
    "\n",
    "all_data = load_data(files)\n",
    "\n",
    "# create the widgets\n",
    "boxes = {f: wg.Checkbox(value=False, description=f) for f in all_data }\n",
    "\n",
    "d65 = colour.ILLUMINANTS[\"cie_10_1964\"][\"D65\"]\n",
    "\n",
    "\n",
    "# create the tabs\n",
    "\n",
    "out1 = wg.Output()\n",
    "out2 = wg.Output()\n",
    "out3 = wg.Output()\n",
    "\n",
    "\n",
    "tab = wg.Tab(children = [out1,out2,out3])\n",
    "tab.set_title(0,'Exposure dose')\n",
    "tab.set_title(1,'Radiant exposure')\n",
    "tab.set_title(2,'Time')\n",
    "display(tab)\n",
    "\n",
    "#display(wg.HBox([**boxes]))\n",
    "#display(wg.VBox([box3]))\n",
    "\n",
    "# create plots inside the tab\n",
    "\n",
    "with out1:\n",
    "    @wg.interact(**boxes)\n",
    "    def update(**kwargs):\n",
    "\n",
    "        fig, ax = plt.subplots(figsize=(15, 10))\n",
    "        sns.set()\n",
    "        \n",
    "        ax.set_xlabel('Exposure dose (Mlx.hr)', fontsize = fts1)\n",
    "        ax.set_ylabel(r'$\\Delta E 00}$', fontsize = fts1)\n",
    "        \n",
    "  \n",
    "        ax.xaxis.set_tick_params(labelsize=fts1)\n",
    "        ax.yaxis.set_tick_params(labelsize=fts1)\n",
    "\n",
    "        \n",
    "        for (filename, enabled) in kwargs.items():\n",
    "        \n",
    "            if enabled:\n",
    "                this_df = all_data[filename]\n",
    "                ax.plot(this_df['Exp_dose(Mlx.hr)'].values, this_df['dE00'].values, label=filename)\n",
    "                \n",
    "\n",
    "            \n",
    "        plt.legend() \n",
    "\n",
    "\n",
    "with out2:\n",
    "    @wg.interact(**boxes)\n",
    "    def update(**kwargs):\n",
    "\n",
    "        fig2, ax2 = plt.subplots(figsize=(15, 10))\n",
    "        sns.set()\n",
    "        \n",
    "        ax2.set_xlabel('Radiant exposure (MJ/m2)', fontsize = fts1)\n",
    "        ax2.set_ylabel(r'$\\Delta E 00$', fontsize = fts1)\n",
    "\n",
    "        ax2.xaxis.set_tick_params(labelsize=fts1)\n",
    "        ax2.yaxis.set_tick_params(labelsize=fts1)\n",
    "\n",
    "        \n",
    "        for (filename, enabled) in kwargs.items():\n",
    "        \n",
    "            if enabled:\n",
    "                this_df = all_data[filename]\n",
    "                ax2.plot(this_df['Radiant_exp(MJ/m2)'].values, this_df['dE00'].values, label=filename)\n",
    "                #ax2.set_xlim(left = 0)\n",
    "\n",
    "\n",
    "            \n",
    "        plt.legend() \n",
    "\n",
    "        \n",
    "with out3:\n",
    "    @wg.interact(**boxes)\n",
    "    def update(**kwargs):\n",
    "\n",
    "        fig3, ax3 = plt.subplots(figsize=(15, 10))\n",
    "        sns.set()\n",
    "        \n",
    "        ax3.set_xlabel('Time (min)', fontsize = fts1)\n",
    "        ax3.set_ylabel(r'$\\Delta E 00$', fontsize = fts1)\n",
    "\n",
    "        ax3.xaxis.set_tick_params(labelsize=fts1)\n",
    "        ax3.yaxis.set_tick_params(labelsize=fts1)\n",
    "\n",
    "        \n",
    "        for (filename, enabled) in kwargs.items():\n",
    "        \n",
    "            if enabled:\n",
    "                this_df = all_data[filename]\n",
    "                ax3.plot(this_df['Time(s)'].values/60, this_df['dE00'].values, label=filename)\n",
    "                #ax3.set_xlim(left = 0)\n",
    "\n",
    "\n"
   ]
  },
  {
   "cell_type": "code",
   "execution_count": null,
   "metadata": {
    "extensions": {
     "jupyter_dashboards": {
      "version": 1,
      "views": {
       "grid_default": {},
       "report_default": {
        "hidden": true
       }
      }
     }
    }
   },
   "outputs": [],
   "source": []
  },
  {
   "cell_type": "code",
   "execution_count": null,
   "metadata": {
    "extensions": {
     "jupyter_dashboards": {
      "version": 1,
      "views": {
       "grid_default": {},
       "report_default": {
        "hidden": true
       }
      }
     }
    }
   },
   "outputs": [],
   "source": []
  },
  {
   "cell_type": "code",
   "execution_count": null,
   "metadata": {
    "extensions": {
     "jupyter_dashboards": {
      "version": 1,
      "views": {
       "grid_default": {},
       "report_default": {
        "hidden": true
       }
      }
     }
    }
   },
   "outputs": [],
   "source": []
  }
 ],
 "metadata": {
  "extensions": {
   "jupyter_dashboards": {
    "activeView": "report_default",
    "version": 1,
    "views": {
     "grid_default": {
      "cellMargin": 10,
      "defaultCellHeight": 20,
      "maxColumns": 12,
      "name": "grid",
      "type": "grid"
     },
     "report_default": {
      "name": "report",
      "type": "report"
     }
    }
   }
  },
  "hide_input": false,
  "kernelspec": {
   "display_name": "Python 3",
   "language": "python",
   "name": "python3"
  },
  "language_info": {
   "codemirror_mode": {
    "name": "ipython",
    "version": 3
   },
   "file_extension": ".py",
   "mimetype": "text/x-python",
   "name": "python",
   "nbconvert_exporter": "python",
   "pygments_lexer": "ipython3",
   "version": "3.8.5"
  },
  "latex_envs": {
   "LaTeX_envs_menu_present": true,
   "autoclose": false,
   "autocomplete": true,
   "bibliofile": "biblio.bib",
   "cite_by": "apalike",
   "current_citInitial": 1,
   "eqLabelWithNumbers": true,
   "eqNumInitial": 1,
   "hotkeys": {
    "equation": "Ctrl-E",
    "itemize": "Ctrl-I"
   },
   "labels_anchors": false,
   "latex_user_defs": false,
   "report_style_numbering": false,
   "user_envs_cfg": false
  },
  "toc": {
   "base_numbering": 1,
   "nav_menu": {},
   "number_sections": true,
   "sideBar": true,
   "skip_h1_title": false,
   "title_cell": "Table of Contents",
   "title_sidebar": "Contents",
   "toc_cell": false,
   "toc_position": {},
   "toc_section_display": true,
   "toc_window_display": false
  },
  "varInspector": {
   "cols": {
    "lenName": 16,
    "lenType": 16,
    "lenVar": 40
   },
   "kernels_config": {
    "python": {
     "delete_cmd_postfix": "",
     "delete_cmd_prefix": "del ",
     "library": "var_list.py",
     "varRefreshCmd": "print(var_dic_list())"
    },
    "r": {
     "delete_cmd_postfix": ") ",
     "delete_cmd_prefix": "rm(",
     "library": "var_list.r",
     "varRefreshCmd": "cat(var_dic_list()) "
    }
   },
   "types_to_exclude": [
    "module",
    "function",
    "builtin_function_or_method",
    "instance",
    "_Feature"
   ],
   "window_display": false
  }
 },
 "nbformat": 4,
 "nbformat_minor": 4
}
